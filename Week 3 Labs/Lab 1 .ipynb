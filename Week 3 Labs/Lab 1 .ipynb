{
 "cells": [
  {
   "cell_type": "code",
   "execution_count": 2,
   "metadata": {},
   "outputs": [
    {
     "name": "stdout",
     "output_type": "stream",
     "text": [
      "This album is good\n"
     ]
    }
   ],
   "source": [
    "rating = 7\n",
    "if rating > 8:\n",
    "    print(\"This album is Amazing\")\n",
    "if rating <= 8:\n",
    "    print(\"This album is good\")\n"
   ]
  },
  {
   "cell_type": "code",
   "execution_count": 5,
   "metadata": {},
   "outputs": [
    {
     "name": "stdout",
     "output_type": "stream",
     "text": [
      "This Album came out in year 1777\n"
     ]
    }
   ],
   "source": [
    "album_year = 1777\n",
    "if album_year < 1980 or album_year==1991 or album_year==1993:\n",
    "    print(\"This Album came out in year\",album_year)"
   ]
  }
 ],
 "metadata": {
  "kernelspec": {
   "display_name": "Python 3",
   "language": "python",
   "name": "python3"
  },
  "language_info": {
   "codemirror_mode": {
    "name": "ipython",
    "version": 3
   },
   "file_extension": ".py",
   "mimetype": "text/x-python",
   "name": "python",
   "nbconvert_exporter": "python",
   "pygments_lexer": "ipython3",
   "version": "3.12.3"
  }
 },
 "nbformat": 4,
 "nbformat_minor": 2
}
