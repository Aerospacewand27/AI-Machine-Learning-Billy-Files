{
 "cells": [
  {
   "cell_type": "code",
   "execution_count": null,
   "metadata": {},
   "outputs": [],
   "source": [
    "class Vehicle:\n",
    "    color = \"white\" \n",
    "    def __init__(self, max_speed, mileage) :\n",
    "        self.max_speed = max_speed\n",
    "        self.mileage = mileage\n",
    "        pass\n",
    "    def seating(self,seatcap):\n",
    "        self.seatcap = seatcap\n",
    "    def properties(self):\n",
    "         print(\"Properties of the Vehicle:\")\n",
    "         print(\"Color:\", self.color)\n",
    "         print(\"Maximum Speed:\", self.max_speed)\n",
    "         print(\"Mileage:\", self.mileage)\n",
    "         print(\"Seating Capacity:\", self.seatcap)\n",
    "vehicle1 = Vehicle(200, 20)\n",
    "vehicle1.seating(5)\n",
    "vehicle1.properties()\n",
    "\n",
    "vehicle2 = Vehicle(180, 25)\n",
    "vehicle2.seating(4)\n",
    "vehicle2.properties()"
   ]
  }
 ],
 "metadata": {
  "language_info": {
   "name": "python"
  }
 },
 "nbformat": 4,
 "nbformat_minor": 2
}
